{
 "cells": [
  {
   "cell_type": "markdown",
   "metadata": {},
   "source": [
    "# Question 1"
   ]
  },
  {
   "cell_type": "code",
   "execution_count": 10,
   "metadata": {},
   "outputs": [
    {
     "name": "stdout",
     "output_type": "stream",
     "text": [
      "enter your number: 14\n",
      "weird\n"
     ]
    }
   ],
   "source": [
    "n = int(input('enter your number: '))\n",
    "if n % 2 == 1:\n",
    "    print('weird')\n",
    "elif n % 2 == 0:\n",
    "    if n in range(2,5):\n",
    "        print('not weird')\n",
    "if n % 2 == 0:\n",
    "    if n in range(6,20):\n",
    "        print('weird')\n",
    "if n % 2 == 0:\n",
    "    if n > 20:\n",
    "        print('not weird')"
   ]
  },
  {
   "cell_type": "markdown",
   "metadata": {},
   "source": [
    "# Question 2"
   ]
  },
  {
   "cell_type": "code",
   "execution_count": 23,
   "metadata": {},
   "outputs": [
    {
     "name": "stdout",
     "output_type": "stream",
     "text": [
      "enter your age: 100.1\n",
      "not eligible to vote\n"
     ]
    }
   ],
   "source": [
    "user_age = float(input('enter your age: '))\n",
    "if user_age in range(18,101):\n",
    "    print('eligible to vote')\n",
    "else:\n",
    "    print('not eligible to vote')"
   ]
  },
  {
   "cell_type": "markdown",
   "metadata": {},
   "source": [
    "# Question 3"
   ]
  },
  {
   "cell_type": "code",
   "execution_count": 9,
   "metadata": {},
   "outputs": [
    {
     "name": "stdout",
     "output_type": "stream",
     "text": [
      "name of country: US\n",
      "total number of goods bought: 5\n",
      "price of shipping:  10.0 \n",
      "Shipment is free\n"
     ]
    }
   ],
   "source": [
    "country = input('name of country: ').upper()\n",
    "total_goods_bought = float(input('total number of goods bought: '))\n",
    "price_of_shipping_US = (total_goods_bought*2)\n",
    "price_of_shipping_EUROPE = (total_goods_bought*4)\n",
    "if country == 'US':\n",
    "    if price_of_shipping_US < 25:\n",
    "        print('price of shipping: ',price_of_shipping_US,'\\nShipment is free')\n",
    "    else:\n",
    "        print('price of shipping: ',price_of_shipping_US)\n",
    "elif country == 'EUROPE':\n",
    "    if price_of_shipping_EUROPE < 25:\n",
    "        print('price of shipping: ',price_of_shipping_EUROPE,'\\nShipment is free')\n",
    "    else:\n",
    "        print('price of shipping: ',price_of_shipping_EUROPE)\n",
    "else:\n",
    "    print('enter a valid country')"
   ]
  },
  {
   "cell_type": "code",
   "execution_count": null,
   "metadata": {},
   "outputs": [],
   "source": []
  }
 ],
 "metadata": {
  "kernelspec": {
   "display_name": "Python 3",
   "language": "python",
   "name": "python3"
  },
  "language_info": {
   "codemirror_mode": {
    "name": "ipython",
    "version": 3
   },
   "file_extension": ".py",
   "mimetype": "text/x-python",
   "name": "python",
   "nbconvert_exporter": "python",
   "pygments_lexer": "ipython3",
   "version": "3.8.3"
  }
 },
 "nbformat": 4,
 "nbformat_minor": 4
}
